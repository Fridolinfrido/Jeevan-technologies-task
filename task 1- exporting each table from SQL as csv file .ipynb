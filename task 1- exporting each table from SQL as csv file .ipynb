{
 "cells": [
  {
   "cell_type": "code",
   "execution_count": 1,
   "id": "3af9ad99",
   "metadata": {},
   "outputs": [],
   "source": [
    "import mysql.connector\n",
    "import pandas as pd\n",
    "import os"
   ]
  },
  {
   "cell_type": "code",
   "execution_count": 2,
   "id": "47fd57f9",
   "metadata": {},
   "outputs": [],
   "source": [
    "\n",
    "def exportdb():\n",
    "    #path = r\"C:\\Users\\frido\\Desktop\\DB to python\"\n",
    "    path=folder_path[0]\n",
    "    try:\n",
    "\n",
    "        try:\n",
    "            connection = mysql.connector.connect(host='127.0.0.1',\n",
    "                                                database='frido',  #frido\n",
    "                                                user='root',      #root\n",
    "                                                password='auth_string',  #auth_string\n",
    "                                                auth_plugin='mysql_native_password')\n",
    "            cursor = connection.cursor()\n",
    "        except Exception as e:\n",
    "            print('Error in connecting to DB.please check DBconnection and try again',e)\n",
    "\n",
    "        try:    \n",
    "            cursor.execute('show tables')     #select * from consumers')\n",
    "            records = cursor.fetchall()\n",
    "\n",
    "            print(f\"Total number of tables in teh database frido: \", cursor.rowcount)\n",
    "\n",
    "        except Exception as e:\n",
    "            print('No tables in DB to export as CSV file',e)\n",
    "\n",
    "        try:\n",
    "            print(\"\\nPrinting all the tables names\")\n",
    "\n",
    "            tables = [i[0] for i in records]\n",
    "            print(tables,'\\n')\n",
    "            print('completed processing...')\n",
    "\n",
    "            for table in tables:\n",
    "                subfolder=os.path.join(path,table)\n",
    "                os.mkdir(subfolder)\n",
    "\n",
    "                frame = pd.read_sql(f\"select * from {table}\", connection);        \n",
    "                if frame.shape[0] > 0:\n",
    "                    frame.to_csv(fr\"{subfolder}\\{table}.csv\")\n",
    "                    print('\\t\\t\\t',table)\n",
    "                elif frame.shape[0] == 0:\n",
    "                    print(f'NO data in table {table}.This data will not be exported as a csv file')\n",
    "        except:\n",
    "            pass\n",
    "\n",
    "    except Exception as e:\n",
    "        print('There is an issue executing the process',e)\n",
    "\n",
    "    finally:\n",
    "        connection.close()\n",
    "\n",
    "        \n",
    "        "
   ]
  },
  {
   "cell_type": "code",
   "execution_count": null,
   "id": "eafeed0b",
   "metadata": {},
   "outputs": [],
   "source": [
    "exportdb()"
   ]
  },
  {
   "cell_type": "code",
   "execution_count": 3,
   "id": "a6c305f3",
   "metadata": {},
   "outputs": [],
   "source": [
    "global folder_path\n",
    "folder_path=[]\n",
    "    \n"
   ]
  },
  {
   "cell_type": "code",
   "execution_count": 4,
   "id": "c9e8f378",
   "metadata": {},
   "outputs": [],
   "source": [
    "import tkinter as tk\n",
    "from tkinter import filedialog\n",
    "\n",
    "def loaddb():\n",
    "    #filename = filedialog.askdirectory()\n",
    "    #folder_path.set(filename)\n",
    "    #print(filename)\n",
    "    #global folder_path\n",
    "    filename = filedialog.askdirectory()\n",
    "    folder_path.append(filename)\n",
    "    print(filename)\n",
    "    "
   ]
  },
  {
   "cell_type": "code",
   "execution_count": 5,
   "id": "0c711481",
   "metadata": {},
   "outputs": [
    {
     "name": "stdout",
     "output_type": "stream",
     "text": [
      "C:/Users/frido/Desktop/DB to python\n",
      "Total number of tables in teh database frido:  12\n",
      "\n",
      "Printing all the tables names\n",
      "['clients', 'consumers', 'customers', 'demographics', 'first', 'insurance', 'jobs', 'peoples', 'persons', 'purchase', 'second', 'workers'] \n",
      "\n",
      "completed processing...\n",
      "\t\t\t clients\n",
      "\t\t\t consumers\n",
      "NO data in table customers.This data will not be exported as a csv file\n",
      "NO data in table demographics.This data will not be exported as a csv file\n",
      "\t\t\t first\n",
      "\t\t\t insurance\n",
      "\t\t\t jobs\n",
      "\t\t\t peoples\n",
      "NO data in table persons.This data will not be exported as a csv file\n",
      "\t\t\t purchase\n",
      "\t\t\t second\n",
      "\t\t\t workers\n"
     ]
    }
   ],
   "source": [
    "# Import Module\n",
    "import tkinter as tk\n",
    " \n",
    "# create root window\n",
    "root = tk.Tk()\n",
    " \n",
    "# root window title and dimension\n",
    "root.title(\"GUI\")\n",
    "# Set geometry (widthxheight)\n",
    "root.geometry('600x400')\n",
    "l1=tk.Label(root,text='username',font=('ArialBold,50'))\n",
    "l1.grid(column=0,row=0)\n",
    "l1.place(x= 150,y=100,width=150)\n",
    "e1=tk.Entry(root)\n",
    "e1.place(x= 300,y=105,width=150)\n",
    "\n",
    "l2=tk.Label(root,text='password',font=('ArialBold,50'))\n",
    "l2.grid(column=0,row=0)\n",
    "l2.place(x= 150,y=150,width=150)\n",
    "e2=tk.Entry(root)\n",
    "e2.place(x= 300,y=155,width=150)\n",
    "\n",
    "l2=tk.Label(root,text='database',font=('ArialBold,50'))\n",
    "l2.grid(column=0,row=0)\n",
    "l2.place(x= 150,y=200,width=150)\n",
    "e2=tk.Entry(root)\n",
    "e2.place(x= 300,y=205,width=150)\n",
    "\n",
    "\n",
    "b1=tk.Button(root,text='Load DB',command=loaddb,bg='Red',font=('ArialBold,50'))\n",
    "b1.place(x= 350,y=265,width=100)\n",
    "\n",
    "b1=tk.Button(root,text='Export DB',command=exportdb,bg='Blue',font=('ArialBold,50'))\n",
    "b1.place(x= 200,y=265,width=100)\n",
    "\n",
    "h1=tk.Label(root,text='Jeevan Technologies',bg='Green',fg='White',font=('ArialBold,50'))\n",
    "h1.place(x= 175,y=35,width=300)\n",
    "root.mainloop()"
   ]
  },
  {
   "cell_type": "code",
   "execution_count": null,
   "id": "c2a97e77",
   "metadata": {},
   "outputs": [],
   "source": [
    "path = r\"C:\\Users\\frido\\Desktop\\example\"\n",
    "os.mkdir(path)"
   ]
  }
 ],
 "metadata": {
  "kernelspec": {
   "display_name": "Python 3",
   "language": "python",
   "name": "python3"
  },
  "language_info": {
   "codemirror_mode": {
    "name": "ipython",
    "version": 3
   },
   "file_extension": ".py",
   "mimetype": "text/x-python",
   "name": "python",
   "nbconvert_exporter": "python",
   "pygments_lexer": "ipython3",
   "version": "3.8.8"
  }
 },
 "nbformat": 4,
 "nbformat_minor": 5
}
